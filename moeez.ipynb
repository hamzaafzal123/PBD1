{
 "cells": [
  {
   "cell_type": "code",
   "execution_count": null,
   "id": "dcc225be",
   "metadata": {},
   "outputs": [],
   "source": [
    "print (\"hello moeez\")"
   ]
  },
  {
   "cell_type": "code",
   "execution_count": null,
   "id": "65c431e1",
   "metadata": {},
   "outputs": [],
   "source": [
    "x=5"
   ]
  },
  {
   "cell_type": "code",
   "execution_count": null,
   "id": "caec0563",
   "metadata": {},
   "outputs": [],
   "source": [
    "print(x)"
   ]
  },
  {
   "cell_type": "code",
   "execution_count": null,
   "id": "3acd4f14",
   "metadata": {},
   "outputs": [],
   "source": [
    "type (x)"
   ]
  },
  {
   "cell_type": "code",
   "execution_count": null,
   "id": "7472c39d",
   "metadata": {},
   "outputs": [],
   "source": [
    "y=3.14"
   ]
  },
  {
   "cell_type": "code",
   "execution_count": null,
   "id": "0c73334e",
   "metadata": {},
   "outputs": [],
   "source": [
    "print (y)"
   ]
  },
  {
   "cell_type": "code",
   "execution_count": null,
   "id": "acb19c3c",
   "metadata": {},
   "outputs": [],
   "source": [
    "type (y)"
   ]
  },
  {
   "cell_type": "code",
   "execution_count": null,
   "id": "ef84c498",
   "metadata": {},
   "outputs": [],
   "source": [
    "x=x+y"
   ]
  },
  {
   "cell_type": "code",
   "execution_count": null,
   "id": "674cc185",
   "metadata": {},
   "outputs": [],
   "source": [
    "print (x)"
   ]
  },
  {
   "cell_type": "code",
   "execution_count": null,
   "id": "fc9e9bfe",
   "metadata": {},
   "outputs": [],
   "source": [
    "type (x)"
   ]
  },
  {
   "cell_type": "code",
   "execution_count": null,
   "id": "9a60ae81",
   "metadata": {},
   "outputs": [],
   "source": [
    "ucp =\"University of central punjab, lahore\""
   ]
  },
  {
   "cell_type": "code",
   "execution_count": null,
   "id": "75fd2534",
   "metadata": {},
   "outputs": [],
   "source": [
    "print (ucp)"
   ]
  },
  {
   "cell_type": "code",
   "execution_count": null,
   "id": "25ff2483",
   "metadata": {},
   "outputs": [],
   "source": [
    "type (ucp)"
   ]
  },
  {
   "cell_type": "code",
   "execution_count": null,
   "id": "0aeb51a8",
   "metadata": {},
   "outputs": [],
   "source": [
    "print (x,\"+\",y,\"=\",x+y)"
   ]
  },
  {
   "cell_type": "code",
   "execution_count": null,
   "id": "1cca2d13",
   "metadata": {},
   "outputs": [],
   "source": [
    "x=input (\"please enter X value : \\n\")\n",
    "y=input (\"please enter Y value : \\n\")\n",
    "print (x,\"+\",y,\"=\",x+y)"
   ]
  },
  {
   "cell_type": "code",
   "execution_count": null,
   "id": "bfcba586",
   "metadata": {},
   "outputs": [],
   "source": [
    "type(x)"
   ]
  },
  {
   "cell_type": "code",
   "execution_count": null,
   "id": "4f81c17a",
   "metadata": {},
   "outputs": [],
   "source": [
    "type(y)"
   ]
  },
  {
   "cell_type": "code",
   "execution_count": null,
   "id": "416c01b2",
   "metadata": {},
   "outputs": [],
   "source": [
    "x= int (input (\"please enter X value : \\n\"))\n",
    "y= int (input (\"please enter Y value : \\n\"))\n",
    "print (x,\"+\",y,\"=\",x+y)"
   ]
  },
  {
   "cell_type": "code",
   "execution_count": null,
   "id": "5ec54e4f",
   "metadata": {},
   "outputs": [],
   "source": [
    "type(x)"
   ]
  },
  {
   "cell_type": "code",
   "execution_count": null,
   "id": "d53af1fe",
   "metadata": {},
   "outputs": [],
   "source": [
    "type(y)"
   ]
  },
  {
   "cell_type": "code",
   "execution_count": null,
   "id": "4ca7ee75",
   "metadata": {},
   "outputs": [],
   "source": [
    "x =22\n",
    "y=7\n",
    "print(x/y)"
   ]
  },
  {
   "cell_type": "code",
   "execution_count": null,
   "id": "ebf146f2",
   "metadata": {},
   "outputs": [],
   "source": [
    "x =22\n",
    "y=7\n",
    "print(x//y)"
   ]
  },
  {
   "cell_type": "code",
   "execution_count": null,
   "id": "14b1531f",
   "metadata": {},
   "outputs": [],
   "source": [
    "x*3"
   ]
  },
  {
   "cell_type": "code",
   "execution_count": null,
   "id": "fea82789",
   "metadata": {},
   "outputs": [],
   "source": [
    "2**3"
   ]
  },
  {
   "cell_type": "code",
   "execution_count": null,
   "id": "d090fbc9",
   "metadata": {},
   "outputs": [],
   "source": [
    "True and False"
   ]
  },
  {
   "cell_type": "code",
   "execution_count": null,
   "id": "6f7d41d4",
   "metadata": {},
   "outputs": [],
   "source": [
    "True and True"
   ]
  },
  {
   "cell_type": "code",
   "execution_count": null,
   "id": "e764794d",
   "metadata": {},
   "outputs": [],
   "source": [
    "True or False"
   ]
  },
  {
   "cell_type": "code",
   "execution_count": null,
   "id": "930ada67",
   "metadata": {},
   "outputs": [],
   "source": [
    "False or False"
   ]
  },
  {
   "cell_type": "code",
   "execution_count": null,
   "id": "059e1738",
   "metadata": {},
   "outputs": [],
   "source": [
    "x= int (input (\"please enter X value : \\n\"))\n",
    "if x>0:\n",
    "    print(\"ohh yes,\")\n",
    "    print (x,\"is greater than zero!!!\")\n",
    "    print (\"thanks\")\n",
    "else:\n",
    "        print(\"ohh no!!!\")\n",
    "        print(\"omg!!!\")\n",
    "        print(\"sorry!!!\")\n",
    "        \n",
    "print (\"bye bye!!!\")\n",
    "    "
   ]
  },
  {
   "cell_type": "code",
   "execution_count": null,
   "id": "9d3b4d6b",
   "metadata": {},
   "outputs": [],
   "source": [
    "x= int (input (\"please enter X value : \\n\"))\n",
    "if x>0:\n",
    "    print(\"ohh yes,\")\n",
    "    print (x,\"is greater than zero!!!\")\n",
    "    print (\"thanks\")\n",
    "else:\n",
    "        print(\"ohh no!!!\")\n",
    "        print(\"omg!!!\")\n",
    "        print(\"sorry!!!\")\n",
    "        \n",
    "print (\"bye bye!!!\")\n",
    "    "
   ]
  },
  {
   "cell_type": "code",
   "execution_count": null,
   "id": "6a0c2bde",
   "metadata": {},
   "outputs": [],
   "source": []
  },
  {
   "cell_type": "code",
   "execution_count": null,
   "id": "16e6c5c8",
   "metadata": {},
   "outputs": [],
   "source": [
    "x= int (input (\"please enter X value : \\n\"))\n",
    "if x>0 and x>=0:\n",
    "    print(\"ohh yes,\")\n",
    "    print (x,\"is greater than zero!!!\")\n",
    "    print (\"thanks\")\n",
    "else:\n",
    "        print(\"ohh no!!!\")\n",
    "        print(\"omg!!!\")\n",
    "        print(\"sorry!!!\")\n",
    "        \n",
    "print (\"bye bye!!!\")\n",
    "    "
   ]
  },
  {
   "cell_type": "code",
   "execution_count": null,
   "id": "1aaad8f8",
   "metadata": {},
   "outputs": [],
   "source": [
    "x= int (input (\"please enter X value : \\n\"))\n",
    "y= int (input (\"please enter Y value : \\n\"))\n",
    "if x>y:\n",
    "    print(x,\"is greater than\",y)\n",
    "elif y>x:\n",
    "    print (y,\"is greater than\",x)\n",
    "else:\n",
    "    print (x,\"is greater than\",y)\n",
    "print (\"bye bye!!!!\")    "
   ]
  },
  {
   "cell_type": "code",
   "execution_count": null,
   "id": "0d88b6f3",
   "metadata": {},
   "outputs": [],
   "source": [
    "x= int (input (\"please enter X value from 0 to 35 : \\n\"))\n",
    "if x>=0 and x<=9:\n",
    "    print (\"value is :\",x)\n",
    "else:\n",
    "    y=55\n",
    "    print (chr(x+y))\n",
    "    \n",
    " "
   ]
  },
  {
   "cell_type": "code",
   "execution_count": null,
   "id": "9452b563",
   "metadata": {},
   "outputs": [],
   "source": [
    "print (\"hello hamza\")"
   ]
  },
  {
   "cell_type": "code",
   "execution_count": null,
   "id": "42b9fb82",
   "metadata": {},
   "outputs": [],
   "source": [
    "x=5\n"
   ]
  },
  {
   "cell_type": "code",
   "execution_count": null,
   "id": "7e247df3",
   "metadata": {},
   "outputs": [],
   "source": [
    "print(x)"
   ]
  }
 ],
 "metadata": {
  "kernelspec": {
   "display_name": "Python 3 (ipykernel)",
   "language": "python",
   "name": "python3"
  },
  "language_info": {
   "codemirror_mode": {
    "name": "ipython",
    "version": 3
   },
   "file_extension": ".py",
   "mimetype": "text/x-python",
   "name": "python",
   "nbconvert_exporter": "python",
   "pygments_lexer": "ipython3",
   "version": "3.9.7"
  }
 },
 "nbformat": 4,
 "nbformat_minor": 5
}
